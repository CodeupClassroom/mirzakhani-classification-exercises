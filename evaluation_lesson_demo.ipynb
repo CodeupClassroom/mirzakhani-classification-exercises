{
 "cells": [
  {
   "cell_type": "markdown",
   "id": "2ec801f7",
   "metadata": {},
   "source": [
    "# Classification Model Evaluation\n",
    "\n",
    "## Examples:\n",
    "\n",
    "Imagine you're bringing coffee to a meeting, and you need to predict whether each person at the meeting will want a coffee or not. Which metric should you choose? It depends. First, lets define our outcomes."
   ]
  },
  {
   "cell_type": "markdown",
   "id": "03d52c44",
   "metadata": {},
   "source": [
    "Outcomes:\n",
    "\n",
    "- FP: Buy a coffee for someone who won't drink it\n",
    "- FN: Don't buy a coffee for someone who wanted one\n",
    "- TP: Buy a coffee for someone who will drink it\n",
    "- TN: Don't buy a coffee for someone who wouldn't drink it anyway"
   ]
  },
  {
   "cell_type": "markdown",
   "id": "b1558dbd",
   "metadata": {},
   "source": [
    "\n",
    "Now that our outcomes are defined, we can weigh which outcomes are less desirable than others. Naturally, TP and TN are desirable, but if we had to choose between FP or FN, which is worse? It may depend on the scenario:"
   ]
  },
  {
   "cell_type": "markdown",
   "id": "6914fddd",
   "metadata": {},
   "source": [
    "Scenarios:\n",
    "\n",
    "- **Revolucion: good coffee, but expensive**"
   ]
  },
  {
   "cell_type": "markdown",
   "id": "65cd561a",
   "metadata": {},
   "source": [
    "The cost of a false positive is higher than a false negative\n",
    "\n",
    "Precision is the best metric to evaluate my prediction ability\n",
    "- We want to be sure about our positive predictions (PPV)"
   ]
  },
  {
   "cell_type": "markdown",
   "id": "62cba8cf",
   "metadata": {},
   "source": [
    "* **Taco cabana: bad coffee, but cheap**"
   ]
  },
  {
   "cell_type": "markdown",
   "id": "0acd0ab2",
   "metadata": {},
   "source": [
    "The cost of a false negative is higher than a false positive\n"
   ]
  },
  {
   "cell_type": "markdown",
   "id": "df76a25d",
   "metadata": {},
   "source": [
    "Recall is the best metric to evaluate my predictions\n",
    "\n",
    "- We want to make sure that everyone who wants a coffee, gets a coffee, even if that means we give coffee where its not wanted"
   ]
  },
  {
   "cell_type": "markdown",
   "id": "fabae9e6",
   "metadata": {},
   "source": [
    "- **meeting with super important client**"
   ]
  },
  {
   "cell_type": "markdown",
   "id": "1e67479e",
   "metadata": {},
   "source": [
    "Cost of false positive? Client doesn't drink the coffee. Maybe I'm out $5\n",
    "Cost of false negative? Client throws papers in my face. Storms out in anger. Deal fails."
   ]
  },
  {
   "cell_type": "markdown",
   "id": "878ba5ce",
   "metadata": {},
   "source": [
    "Recall is the best metric"
   ]
  },
  {
   "cell_type": "markdown",
   "id": "7bc5c6ce",
   "metadata": {},
   "source": [
    "**What if you buy coffee for everyone or just don't buy any coffee?**"
   ]
  },
  {
   "cell_type": "markdown",
   "id": "ca2659c6",
   "metadata": {},
   "source": [
    "This describes a baseline model"
   ]
  },
  {
   "cell_type": "markdown",
   "id": "a43f590e",
   "metadata": {},
   "source": [
    "### Mini Exercise\n",
    "\n",
    "Scenario: Build a classifier to predict whether a given face should unlock the iPhone.\n",
    "\n",
    "- What is the positive and negative case?"
   ]
  },
  {
   "cell_type": "code",
   "execution_count": 3,
   "id": "b627441d",
   "metadata": {},
   "outputs": [],
   "source": [
    "#Positive: Face should unlock the iPhone\n",
    "#Negative: Face should not unlock the iPhone"
   ]
  },
  {
   "cell_type": "markdown",
   "id": "b34f7bef",
   "metadata": {},
   "source": [
    "* What are our possible outcomes?"
   ]
  },
  {
   "cell_type": "code",
   "execution_count": 4,
   "id": "511719ce",
   "metadata": {},
   "outputs": [],
   "source": [
    "#TP: We predict the face should unlock the phone, and the actual is that the face that should unlock the phone.\n",
    "#TN: We predict the face should not unlock the phone, and the actual is the face should not unlock the phone.\n",
    "#FP: We predict the face should unlock the phone, and the actual is that the face should NOT unlock the phone.\n",
    "#FN: We predict the face should not unlock the phone, and the actual is that the face should unlock the phone."
   ]
  },
  {
   "cell_type": "markdown",
   "id": "b55d2e83",
   "metadata": {},
   "source": [
    "- What are the costs of the outcomes?"
   ]
  },
  {
   "cell_type": "code",
   "execution_count": null,
   "id": "41462f6d",
   "metadata": {},
   "outputs": [],
   "source": [
    "#FP: Inappropriate phone access granted - bad bad bad\n",
    "#FN: This is annoying, why doesn't my phone recognize my face - not quite as bad"
   ]
  },
  {
   "cell_type": "markdown",
   "id": "62cc2a52",
   "metadata": {},
   "source": [
    "- Which metric should we use?"
   ]
  },
  {
   "cell_type": "code",
   "execution_count": 5,
   "id": "f8509071",
   "metadata": {},
   "outputs": [],
   "source": [
    "#Precision"
   ]
  },
  {
   "cell_type": "markdown",
   "id": "8a749f37",
   "metadata": {},
   "source": [
    "Scenario: Predict whether an email is spam or not. Emails marked as spam skip the inbox and go to the spam folder.\n",
    "\n",
    "- What is the positive and negative case?"
   ]
  },
  {
   "cell_type": "code",
   "execution_count": 6,
   "id": "60ef894d",
   "metadata": {},
   "outputs": [],
   "source": [
    "#Positive: Email is spam.\n",
    "#Negative: Email is not spam."
   ]
  },
  {
   "cell_type": "markdown",
   "id": "b2f22e7b",
   "metadata": {},
   "source": [
    "* What are our possible outcomes?"
   ]
  },
  {
   "cell_type": "code",
   "execution_count": 8,
   "id": "e4dabbad",
   "metadata": {},
   "outputs": [],
   "source": [
    "#TP: Predict email is spam, and email is spam\n",
    "#TN: Predict email is not spam, and email is not spam\n",
    "#FP: Predict email is spam, and email is not spam\n",
    "#FN: Predict email is not spam, and email is spam"
   ]
  },
  {
   "cell_type": "markdown",
   "id": "026a62ad",
   "metadata": {},
   "source": [
    "- What are are cost?"
   ]
  },
  {
   "cell_type": "code",
   "execution_count": 9,
   "id": "ae0f390b",
   "metadata": {},
   "outputs": [],
   "source": [
    "#FP: We took a legit email and dumped it in the spam folder\n",
    "#FN: We let spam in the inbox"
   ]
  },
  {
   "cell_type": "markdown",
   "id": "b489a500",
   "metadata": {},
   "source": [
    "- Which metric should we use?"
   ]
  },
  {
   "cell_type": "code",
   "execution_count": 10,
   "id": "694a6749",
   "metadata": {},
   "outputs": [],
   "source": [
    "# Let's go with accuracy"
   ]
  },
  {
   "cell_type": "markdown",
   "id": "41473b96",
   "metadata": {},
   "source": [
    "Scenario: Predict whether an email is a phishing attempt. When we predict positive, show an additional banner warning the user that this might be a phishing email.\n",
    "\n",
    "- What is the positive and negative case?"
   ]
  },
  {
   "cell_type": "code",
   "execution_count": 11,
   "id": "e8ac2b4b",
   "metadata": {},
   "outputs": [],
   "source": [
    "#Positive: Email is a phishing attempt\n",
    "#Negative: Email is not a phishing attempt"
   ]
  },
  {
   "cell_type": "markdown",
   "id": "9f76fd92",
   "metadata": {},
   "source": [
    "- What are our possible outcomes?"
   ]
  },
  {
   "cell_type": "code",
   "execution_count": 12,
   "id": "38a0d4f6",
   "metadata": {},
   "outputs": [],
   "source": [
    "#TP: Predict email is phishing attempt, and it is.\n",
    "#TN: Predict email is not phishing attempt, and it is not.\n",
    "#FP: Predict email is phishing attempt, and it is not.\n",
    "#FN: Predict email is not phishing attempt, and it is."
   ]
  },
  {
   "cell_type": "markdown",
   "id": "d1ecaca3",
   "metadata": {},
   "source": [
    "- What are the costs?"
   ]
  },
  {
   "cell_type": "code",
   "execution_count": 13,
   "id": "6bd68382",
   "metadata": {},
   "outputs": [],
   "source": [
    "#FP: We give a banner on a innocent email\n",
    "#FN: We fail to put a banner on a phishing attempt."
   ]
  },
  {
   "cell_type": "markdown",
   "id": "a995bcc1",
   "metadata": {},
   "source": [
    "- What metric should we use?"
   ]
  },
  {
   "cell_type": "code",
   "execution_count": 14,
   "id": "90872cf0",
   "metadata": {},
   "outputs": [],
   "source": [
    "#Recall"
   ]
  },
  {
   "cell_type": "markdown",
   "id": "d125628e",
   "metadata": {},
   "source": [
    "# Python Implementation"
   ]
  },
  {
   "cell_type": "code",
   "execution_count": 15,
   "id": "de3ea80c",
   "metadata": {},
   "outputs": [
    {
     "data": {
      "text/html": [
       "<div>\n",
       "<style scoped>\n",
       "    .dataframe tbody tr th:only-of-type {\n",
       "        vertical-align: middle;\n",
       "    }\n",
       "\n",
       "    .dataframe tbody tr th {\n",
       "        vertical-align: top;\n",
       "    }\n",
       "\n",
       "    .dataframe thead th {\n",
       "        text-align: right;\n",
       "    }\n",
       "</style>\n",
       "<table border=\"1\" class=\"dataframe\">\n",
       "  <thead>\n",
       "    <tr style=\"text-align: right;\">\n",
       "      <th></th>\n",
       "      <th>actual</th>\n",
       "      <th>prediction</th>\n",
       "    </tr>\n",
       "  </thead>\n",
       "  <tbody>\n",
       "    <tr>\n",
       "      <th>0</th>\n",
       "      <td>coffee</td>\n",
       "      <td>no coffee</td>\n",
       "    </tr>\n",
       "    <tr>\n",
       "      <th>1</th>\n",
       "      <td>no coffee</td>\n",
       "      <td>no coffee</td>\n",
       "    </tr>\n",
       "    <tr>\n",
       "      <th>2</th>\n",
       "      <td>no coffee</td>\n",
       "      <td>coffee</td>\n",
       "    </tr>\n",
       "    <tr>\n",
       "      <th>3</th>\n",
       "      <td>coffee</td>\n",
       "      <td>coffee</td>\n",
       "    </tr>\n",
       "    <tr>\n",
       "      <th>4</th>\n",
       "      <td>coffee</td>\n",
       "      <td>coffee</td>\n",
       "    </tr>\n",
       "    <tr>\n",
       "      <th>5</th>\n",
       "      <td>coffee</td>\n",
       "      <td>coffee</td>\n",
       "    </tr>\n",
       "    <tr>\n",
       "      <th>6</th>\n",
       "      <td>no coffee</td>\n",
       "      <td>no coffee</td>\n",
       "    </tr>\n",
       "    <tr>\n",
       "      <th>7</th>\n",
       "      <td>coffee</td>\n",
       "      <td>no coffee</td>\n",
       "    </tr>\n",
       "  </tbody>\n",
       "</table>\n",
       "</div>"
      ],
      "text/plain": [
       "      actual prediction\n",
       "0     coffee  no coffee\n",
       "1  no coffee  no coffee\n",
       "2  no coffee     coffee\n",
       "3     coffee     coffee\n",
       "4     coffee     coffee\n",
       "5     coffee     coffee\n",
       "6  no coffee  no coffee\n",
       "7     coffee  no coffee"
      ]
     },
     "execution_count": 15,
     "metadata": {},
     "output_type": "execute_result"
    }
   ],
   "source": [
    "import pandas as pd\n",
    "\n",
    "df = pd.DataFrame({\n",
    "    'actual': ['coffee', 'no coffee', 'no coffee', 'coffee', 'coffee', 'coffee', 'no coffee', 'coffee'],\n",
    "    'prediction': ['no coffee', 'no coffee', 'coffee', 'coffee', 'coffee', 'coffee', 'no coffee', 'no coffee'],\n",
    "})\n",
    "df"
   ]
  },
  {
   "cell_type": "code",
   "execution_count": 17,
   "id": "d2fad36e",
   "metadata": {},
   "outputs": [
    {
     "data": {
      "text/html": [
       "<div>\n",
       "<style scoped>\n",
       "    .dataframe tbody tr th:only-of-type {\n",
       "        vertical-align: middle;\n",
       "    }\n",
       "\n",
       "    .dataframe tbody tr th {\n",
       "        vertical-align: top;\n",
       "    }\n",
       "\n",
       "    .dataframe thead th {\n",
       "        text-align: right;\n",
       "    }\n",
       "</style>\n",
       "<table border=\"1\" class=\"dataframe\">\n",
       "  <thead>\n",
       "    <tr style=\"text-align: right;\">\n",
       "      <th>actual</th>\n",
       "      <th>coffee</th>\n",
       "      <th>no coffee</th>\n",
       "    </tr>\n",
       "    <tr>\n",
       "      <th>prediction</th>\n",
       "      <th></th>\n",
       "      <th></th>\n",
       "    </tr>\n",
       "  </thead>\n",
       "  <tbody>\n",
       "    <tr>\n",
       "      <th>coffee</th>\n",
       "      <td>3</td>\n",
       "      <td>1</td>\n",
       "    </tr>\n",
       "    <tr>\n",
       "      <th>no coffee</th>\n",
       "      <td>2</td>\n",
       "      <td>2</td>\n",
       "    </tr>\n",
       "  </tbody>\n",
       "</table>\n",
       "</div>"
      ],
      "text/plain": [
       "actual      coffee  no coffee\n",
       "prediction                   \n",
       "coffee           3          1\n",
       "no coffee        2          2"
      ]
     },
     "execution_count": 17,
     "metadata": {},
     "output_type": "execute_result"
    }
   ],
   "source": [
    "pd.crosstab(df.prediction, df.actual)"
   ]
  },
  {
   "cell_type": "markdown",
   "id": "d341f6a5",
   "metadata": {},
   "source": [
    "Our choice of positive and negative is arbitrary\n",
    "\n",
    "- TP: predicted coffee + actual is coffee\n",
    "- FP: predicted coffee, but they didn't like coffee\n",
    "- FN: predicted no coffee, but really they liked coffee\n",
    "- TN: predicted no coffee, actual no coffee"
   ]
  },
  {
   "cell_type": "markdown",
   "id": "63f72c09",
   "metadata": {},
   "source": [
    "## Metrics\n",
    "\n",
    "- **accuracy**: (TP + TN) / (TP + TN + FP + FN)\n",
    "    - (3 + 2) / (3 + 1 + 2 +2) = 62.5%"
   ]
  },
  {
   "cell_type": "markdown",
   "id": "704ab65e",
   "metadata": {},
   "source": [
    "- **precision**: TP / (TP + FP)\n",
    "    - 3 / (3 + 1) = 75%\n",
    "    - FP is more costly than FN"
   ]
  },
  {
   "cell_type": "markdown",
   "id": "94a65661",
   "metadata": {},
   "source": [
    "- **recall**: TP / (TP + FN)\n",
    "    - 3 / (3 + 2) = 60%\n",
    "    - FN is more costly than FP"
   ]
  },
  {
   "cell_type": "code",
   "execution_count": 20,
   "id": "cd874bb3",
   "metadata": {},
   "outputs": [
    {
     "data": {
      "text/plain": [
       "coffee       5\n",
       "no coffee    3\n",
       "Name: actual, dtype: int64"
      ]
     },
     "execution_count": 20,
     "metadata": {},
     "output_type": "execute_result"
    }
   ],
   "source": [
    "df.actual.value_counts()"
   ]
  },
  {
   "cell_type": "code",
   "execution_count": 21,
   "id": "d49fb2c3",
   "metadata": {},
   "outputs": [],
   "source": [
    "df['baseline'] = 'coffee'"
   ]
  },
  {
   "cell_type": "code",
   "execution_count": 22,
   "id": "dd41faab",
   "metadata": {},
   "outputs": [
    {
     "data": {
      "text/html": [
       "<div>\n",
       "<style scoped>\n",
       "    .dataframe tbody tr th:only-of-type {\n",
       "        vertical-align: middle;\n",
       "    }\n",
       "\n",
       "    .dataframe tbody tr th {\n",
       "        vertical-align: top;\n",
       "    }\n",
       "\n",
       "    .dataframe thead th {\n",
       "        text-align: right;\n",
       "    }\n",
       "</style>\n",
       "<table border=\"1\" class=\"dataframe\">\n",
       "  <thead>\n",
       "    <tr style=\"text-align: right;\">\n",
       "      <th></th>\n",
       "      <th>actual</th>\n",
       "      <th>prediction</th>\n",
       "      <th>baseline</th>\n",
       "    </tr>\n",
       "  </thead>\n",
       "  <tbody>\n",
       "    <tr>\n",
       "      <th>0</th>\n",
       "      <td>coffee</td>\n",
       "      <td>no coffee</td>\n",
       "      <td>coffee</td>\n",
       "    </tr>\n",
       "    <tr>\n",
       "      <th>1</th>\n",
       "      <td>no coffee</td>\n",
       "      <td>no coffee</td>\n",
       "      <td>coffee</td>\n",
       "    </tr>\n",
       "    <tr>\n",
       "      <th>2</th>\n",
       "      <td>no coffee</td>\n",
       "      <td>coffee</td>\n",
       "      <td>coffee</td>\n",
       "    </tr>\n",
       "    <tr>\n",
       "      <th>3</th>\n",
       "      <td>coffee</td>\n",
       "      <td>coffee</td>\n",
       "      <td>coffee</td>\n",
       "    </tr>\n",
       "    <tr>\n",
       "      <th>4</th>\n",
       "      <td>coffee</td>\n",
       "      <td>coffee</td>\n",
       "      <td>coffee</td>\n",
       "    </tr>\n",
       "    <tr>\n",
       "      <th>5</th>\n",
       "      <td>coffee</td>\n",
       "      <td>coffee</td>\n",
       "      <td>coffee</td>\n",
       "    </tr>\n",
       "    <tr>\n",
       "      <th>6</th>\n",
       "      <td>no coffee</td>\n",
       "      <td>no coffee</td>\n",
       "      <td>coffee</td>\n",
       "    </tr>\n",
       "    <tr>\n",
       "      <th>7</th>\n",
       "      <td>coffee</td>\n",
       "      <td>no coffee</td>\n",
       "      <td>coffee</td>\n",
       "    </tr>\n",
       "  </tbody>\n",
       "</table>\n",
       "</div>"
      ],
      "text/plain": [
       "      actual prediction baseline\n",
       "0     coffee  no coffee   coffee\n",
       "1  no coffee  no coffee   coffee\n",
       "2  no coffee     coffee   coffee\n",
       "3     coffee     coffee   coffee\n",
       "4     coffee     coffee   coffee\n",
       "5     coffee     coffee   coffee\n",
       "6  no coffee  no coffee   coffee\n",
       "7     coffee  no coffee   coffee"
      ]
     },
     "execution_count": 22,
     "metadata": {},
     "output_type": "execute_result"
    }
   ],
   "source": [
    "df"
   ]
  },
  {
   "cell_type": "code",
   "execution_count": 24,
   "id": "659e632f",
   "metadata": {},
   "outputs": [
    {
     "data": {
      "text/plain": [
       "0.625"
      ]
     },
     "execution_count": 24,
     "metadata": {},
     "output_type": "execute_result"
    }
   ],
   "source": [
    "#model accuracy\n",
    "(df.actual == df.prediction).mean()"
   ]
  },
  {
   "cell_type": "code",
   "execution_count": 26,
   "id": "9e1a3989",
   "metadata": {},
   "outputs": [
    {
     "data": {
      "text/plain": [
       "0.625"
      ]
     },
     "execution_count": 26,
     "metadata": {},
     "output_type": "execute_result"
    }
   ],
   "source": [
    "#baseline accuracy\n",
    "(df.actual == df.baseline).mean()"
   ]
  },
  {
   "cell_type": "code",
   "execution_count": 29,
   "id": "6ebd6054",
   "metadata": {},
   "outputs": [
    {
     "data": {
      "text/html": [
       "<div>\n",
       "<style scoped>\n",
       "    .dataframe tbody tr th:only-of-type {\n",
       "        vertical-align: middle;\n",
       "    }\n",
       "\n",
       "    .dataframe tbody tr th {\n",
       "        vertical-align: top;\n",
       "    }\n",
       "\n",
       "    .dataframe thead th {\n",
       "        text-align: right;\n",
       "    }\n",
       "</style>\n",
       "<table border=\"1\" class=\"dataframe\">\n",
       "  <thead>\n",
       "    <tr style=\"text-align: right;\">\n",
       "      <th></th>\n",
       "      <th>actual</th>\n",
       "      <th>prediction</th>\n",
       "      <th>baseline</th>\n",
       "    </tr>\n",
       "  </thead>\n",
       "  <tbody>\n",
       "    <tr>\n",
       "      <th>2</th>\n",
       "      <td>no coffee</td>\n",
       "      <td>coffee</td>\n",
       "      <td>coffee</td>\n",
       "    </tr>\n",
       "    <tr>\n",
       "      <th>3</th>\n",
       "      <td>coffee</td>\n",
       "      <td>coffee</td>\n",
       "      <td>coffee</td>\n",
       "    </tr>\n",
       "    <tr>\n",
       "      <th>4</th>\n",
       "      <td>coffee</td>\n",
       "      <td>coffee</td>\n",
       "      <td>coffee</td>\n",
       "    </tr>\n",
       "    <tr>\n",
       "      <th>5</th>\n",
       "      <td>coffee</td>\n",
       "      <td>coffee</td>\n",
       "      <td>coffee</td>\n",
       "    </tr>\n",
       "  </tbody>\n",
       "</table>\n",
       "</div>"
      ],
      "text/plain": [
       "      actual prediction baseline\n",
       "2  no coffee     coffee   coffee\n",
       "3     coffee     coffee   coffee\n",
       "4     coffee     coffee   coffee\n",
       "5     coffee     coffee   coffee"
      ]
     },
     "execution_count": 29,
     "metadata": {},
     "output_type": "execute_result"
    }
   ],
   "source": [
    "# model precision\n",
    "subset = df[df.prediction == 'coffee']\n",
    "subset"
   ]
  },
  {
   "cell_type": "code",
   "execution_count": 31,
   "id": "28622af2",
   "metadata": {},
   "outputs": [
    {
     "data": {
      "text/plain": [
       "0.75"
      ]
     },
     "execution_count": 31,
     "metadata": {},
     "output_type": "execute_result"
    }
   ],
   "source": [
    "(subset.prediction == subset.actual).mean()"
   ]
  },
  {
   "cell_type": "code",
   "execution_count": 34,
   "id": "b7a5b07f",
   "metadata": {},
   "outputs": [
    {
     "data": {
      "text/html": [
       "<div>\n",
       "<style scoped>\n",
       "    .dataframe tbody tr th:only-of-type {\n",
       "        vertical-align: middle;\n",
       "    }\n",
       "\n",
       "    .dataframe tbody tr th {\n",
       "        vertical-align: top;\n",
       "    }\n",
       "\n",
       "    .dataframe thead th {\n",
       "        text-align: right;\n",
       "    }\n",
       "</style>\n",
       "<table border=\"1\" class=\"dataframe\">\n",
       "  <thead>\n",
       "    <tr style=\"text-align: right;\">\n",
       "      <th></th>\n",
       "      <th>actual</th>\n",
       "      <th>prediction</th>\n",
       "      <th>baseline</th>\n",
       "    </tr>\n",
       "  </thead>\n",
       "  <tbody>\n",
       "    <tr>\n",
       "      <th>0</th>\n",
       "      <td>coffee</td>\n",
       "      <td>no coffee</td>\n",
       "      <td>coffee</td>\n",
       "    </tr>\n",
       "    <tr>\n",
       "      <th>3</th>\n",
       "      <td>coffee</td>\n",
       "      <td>coffee</td>\n",
       "      <td>coffee</td>\n",
       "    </tr>\n",
       "    <tr>\n",
       "      <th>4</th>\n",
       "      <td>coffee</td>\n",
       "      <td>coffee</td>\n",
       "      <td>coffee</td>\n",
       "    </tr>\n",
       "    <tr>\n",
       "      <th>5</th>\n",
       "      <td>coffee</td>\n",
       "      <td>coffee</td>\n",
       "      <td>coffee</td>\n",
       "    </tr>\n",
       "    <tr>\n",
       "      <th>7</th>\n",
       "      <td>coffee</td>\n",
       "      <td>no coffee</td>\n",
       "      <td>coffee</td>\n",
       "    </tr>\n",
       "  </tbody>\n",
       "</table>\n",
       "</div>"
      ],
      "text/plain": [
       "   actual prediction baseline\n",
       "0  coffee  no coffee   coffee\n",
       "3  coffee     coffee   coffee\n",
       "4  coffee     coffee   coffee\n",
       "5  coffee     coffee   coffee\n",
       "7  coffee  no coffee   coffee"
      ]
     },
     "execution_count": 34,
     "metadata": {},
     "output_type": "execute_result"
    }
   ],
   "source": [
    "#model recall\n",
    "subset = df[df.actual == 'coffee']\n",
    "subset"
   ]
  },
  {
   "cell_type": "code",
   "execution_count": 38,
   "id": "73df6f27",
   "metadata": {},
   "outputs": [
    {
     "data": {
      "text/plain": [
       "0.6"
      ]
     },
     "execution_count": 38,
     "metadata": {},
     "output_type": "execute_result"
    }
   ],
   "source": [
    "(subset.prediction == subset.actual).mean()"
   ]
  },
  {
   "cell_type": "code",
   "execution_count": 40,
   "id": "43abba5d",
   "metadata": {},
   "outputs": [
    {
     "name": "stdout",
     "output_type": "stream",
     "text": [
      "              precision    recall  f1-score   support\n",
      "\n",
      "      coffee       0.75      0.60      0.67         5\n",
      "   no coffee       0.50      0.67      0.57         3\n",
      "\n",
      "    accuracy                           0.62         8\n",
      "   macro avg       0.62      0.63      0.62         8\n",
      "weighted avg       0.66      0.62      0.63         8\n",
      "\n"
     ]
    }
   ],
   "source": [
    "from sklearn.metrics import classification_report\n",
    "\n",
    "print(classification_report(df.actual, df.prediction))"
   ]
  },
  {
   "cell_type": "code",
   "execution_count": null,
   "id": "396f45f8",
   "metadata": {},
   "outputs": [],
   "source": []
  }
 ],
 "metadata": {
  "kernelspec": {
   "display_name": "Python 3 (ipykernel)",
   "language": "python",
   "name": "python3"
  },
  "language_info": {
   "codemirror_mode": {
    "name": "ipython",
    "version": 3
   },
   "file_extension": ".py",
   "mimetype": "text/x-python",
   "name": "python",
   "nbconvert_exporter": "python",
   "pygments_lexer": "ipython3",
   "version": "3.9.12"
  }
 },
 "nbformat": 4,
 "nbformat_minor": 5
}
